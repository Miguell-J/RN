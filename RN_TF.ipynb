{
  "nbformat": 4,
  "nbformat_minor": 0,
  "metadata": {
    "colab": {
      "provenance": []
    },
    "kernelspec": {
      "name": "python3",
      "display_name": "Python 3"
    },
    "language_info": {
      "name": "python"
    }
  },
  "cells": [
    {
      "cell_type": "markdown",
      "source": [
        "# Modelo simples de rede neural de regressão"
      ],
      "metadata": {
        "id": "b1ONeyqLKxuY"
      }
    },
    {
      "cell_type": "markdown",
      "source": [
        "## Criação dos datasets"
      ],
      "metadata": {
        "id": "SLH_7uuJNBih"
      }
    },
    {
      "cell_type": "code",
      "execution_count": null,
      "metadata": {
        "id": "QEFgwOsvFbbM"
      },
      "outputs": [],
      "source": [
        "# utilizaremos as bibliotecas\n",
        "import tensorflow as tf # para os modelos de rn\n",
        "import matplotlib.pyplot as plt # para vizualização dos dados\n",
        "import numpy as np # para a construção dos dados\n",
        "import pandas as pd # para a analise dos modelos"
      ]
    },
    {
      "cell_type": "code",
      "source": [
        "# criar um dataset\n",
        "x = np.arange(-100, 100, 4)\n",
        "# criar um label\n",
        "y = x + 10\n",
        "x, y"
      ],
      "metadata": {
        "id": "9LrOsaAIFmqY"
      },
      "execution_count": null,
      "outputs": []
    },
    {
      "cell_type": "code",
      "source": [
        "# dividir os datasets em dados de treino e teste\n",
        "x_treino = x[:40]\n",
        "x_teste = x[40:]\n",
        "y_treino = y[:40]\n",
        "y_teste = y[40:]\n",
        "x_treino, y_treino"
      ],
      "metadata": {
        "id": "b9DiplK1Fqb4"
      },
      "execution_count": null,
      "outputs": []
    },
    {
      "cell_type": "code",
      "source": [
        "# montar um gráfico dos dados de treino e de teste\n",
        "plt.figure(figsize=(10, 7))\n",
        "plt.scatter(x_treino, y_treino, c='b', label='Dados de treino')\n",
        "plt.scatter(x_teste, y_teste, c='g', label='Dados de teste')\n",
        "plt.legend();"
      ],
      "metadata": {
        "id": "rkA6dBWvFuf7"
      },
      "execution_count": null,
      "outputs": []
    },
    {
      "cell_type": "code",
      "source": [
        "def grafico_previsoes(train_data=x_treino, # função para vizualização dos dados obtidos\n",
        "                     train_labels=y_treino,\n",
        "                     test_data=x_teste,\n",
        "                     test_labels=y_teste,\n",
        "                     predictions=y_preds):\n",
        "  \"\"\"\n",
        "  Monta um grafico com os dados de treino, teste e compara as previsões com o dados reais\n",
        "  \"\"\"\n",
        "  plt.figure(figsize=(10, 7))\n",
        "  plt.scatter(train_data, train_labels, c=\"b\", label=\"Dados de treino\")\n",
        "  plt.scatter(test_data, test_labels, c=\"g\", label=\"Dados de teste\")\n",
        "  plt.scatter(test_data, predictions, c=\"r\", label=\"Previsões\")\n",
        "  plt.legend();"
      ],
      "metadata": {
        "id": "t-r42YXrP7HU"
      },
      "execution_count": null,
      "outputs": []
    },
    {
      "cell_type": "code",
      "source": [
        "def mae(y_teste, y_pred):\n",
        "  \"\"\"\n",
        "  Calcula o mean absolute error entre o y_teste e o y_pred\n",
        "  \"\"\"\n",
        "  return tf.metrics.mean_absolute_error(y_teste,\n",
        "                                        y_pred)\n",
        "\n",
        "def mse(y_teste, y_pred):\n",
        "  \"\"\"\n",
        "  calcula o mean squared error entre o y_teste e o y_pred\n",
        "  \"\"\"\n",
        "  return tf.metrics.mean_squared_error(y_teste,\n",
        "                                       y_pred)\n"
      ],
      "metadata": {
        "id": "cCDUcAglQgQB"
      },
      "execution_count": null,
      "outputs": []
    },
    {
      "cell_type": "markdown",
      "source": [
        "## Criação dos modelos de RN"
      ],
      "metadata": {
        "id": "LxOUdBfhNqFM"
      }
    },
    {
      "cell_type": "markdown",
      "source": [
        "### modelo 1"
      ],
      "metadata": {
        "id": "C3OX4KmDP985"
      }
    },
    {
      "cell_type": "code",
      "source": [
        "# contrução do modelo\n",
        "\n",
        "# setar uma semente de reprodução\n",
        "tf.random.set_seed(42)\n",
        "# criação do modelo\n",
        "model1 = tf.keras.Sequential([\n",
        "  tf.keras.layers.Dense(1) # camada de neurônios\n",
        "])\n",
        "# compilação do modelo\n",
        "model1.compile(loss=tf.keras.losses.mae, # funções de perda (mostram o quão errado o nosso modelo está)\n",
        "              optimizer=tf.keras.optimizers.SGD(),\n",
        "              metrics=[\"mae\"]) # métrica mae(mean absolute error) média*(x-y)/n"
      ],
      "metadata": {
        "id": "cHyGdB14F-vd"
      },
      "execution_count": null,
      "outputs": []
    },
    {
      "cell_type": "code",
      "source": [
        "model1.fit(tf.expand_dims(x_treino, axis=-1), y_treino, epochs=100, verbose=0) # treinamento do modelo"
      ],
      "metadata": {
        "colab": {
          "base_uri": "https://localhost:8080/"
        },
        "id": "HnlxO5bBGEZM",
        "outputId": "caf4f2ef-3663-4804-b968-e599b685e0a2"
      },
      "execution_count": null,
      "outputs": [
        {
          "output_type": "execute_result",
          "data": {
            "text/plain": [
              "<keras.src.callbacks.History at 0x7deca70800d0>"
            ]
          },
          "metadata": {},
          "execution_count": 75
        }
      ]
    },
    {
      "cell_type": "code",
      "source": [
        "y_preds1 = model1.predict(x_teste) # previsão com base no label"
      ],
      "metadata": {
        "colab": {
          "base_uri": "https://localhost:8080/"
        },
        "id": "kEEZSpoTGRmb",
        "outputId": "212d126c-dd95-46a1-ce0a-51cee9638857"
      },
      "execution_count": null,
      "outputs": [
        {
          "output_type": "stream",
          "name": "stdout",
          "text": [
            "1/1 [==============================] - 0s 56ms/step\n"
          ]
        }
      ]
    },
    {
      "cell_type": "code",
      "source": [
        "grafico_previsoes(predictions=y_preds1)"
      ],
      "metadata": {
        "colab": {
          "base_uri": "https://localhost:8080/",
          "height": 599
        },
        "id": "nvxdbHbuGdwQ",
        "outputId": "ed2af6cf-cf2d-4689-a41f-dcc37ebb4c92"
      },
      "execution_count": null,
      "outputs": [
        {
          "output_type": "display_data",
          "data": {
            "text/plain": [
              "<Figure size 1000x700 with 1 Axes>"
            ],
            "image/png": "[encoded data removed]"
          },
          "metadata": {}
        }
      ]
    },
    {
      "cell_type": "code",
      "source": [
        "mae_1 = mae(y_teste, y_preds1.squeeze()).numpy()\n",
        "mse_1 = mse(y_teste, y_preds1.squeeze()).numpy()\n",
        "mae_1, mse_1"
      ],
      "metadata": {
        "colab": {
          "base_uri": "https://localhost:8080/"
        },
        "id": "3-m69ZlfQUKB",
        "outputId": "c9d79b5b-3844-4b40-8382-103973658be4"
      },
      "execution_count": null,
      "outputs": [
        {
          "output_type": "execute_result",
          "data": {
            "text/plain": [
              "(30.749228, 956.0331)"
            ]
          },
          "metadata": {},
          "execution_count": 78
        }
      ]
    },
    {
      "cell_type": "markdown",
      "source": [
        "### modelo 2"
      ],
      "metadata": {
        "id": "atDYDlIaQFh6"
      }
    },
    {
      "cell_type": "code",
      "source": [
        "# criação do segundo modelo\n",
        "tf.random.set_seed(42)\n",
        "\n",
        "modelo2 = tf.keras.Sequential([\n",
        "    tf.keras.layers.Dense(1),\n",
        "    tf.keras.layers.Dense(1) # adicionando mais uma camada\n",
        "])\n",
        "\n",
        "modelo2.compile(loss=tf.keras.losses.mae,\n",
        "                optimizer=tf.keras.optimizers.SGD(),\n",
        "                metrics=\"mae\")\n",
        "\n",
        "modelo2.fit(tf.expand_dims(x_treino, axis=-1), y_treino, epochs=100, verbose=0)"
      ],
      "metadata": {
        "colab": {
          "base_uri": "https://localhost:8080/"
        },
        "id": "dRTZRzRhQE1d",
        "outputId": "083d9af5-7fd5-4af5-da6e-d5b91baa82de"
      },
      "execution_count": null,
      "outputs": [
        {
          "output_type": "execute_result",
          "data": {
            "text/plain": [
              "<keras.src.callbacks.History at 0x7deca7019630>"
            ]
          },
          "metadata": {},
          "execution_count": 79
        }
      ]
    },
    {
      "cell_type": "code",
      "source": [
        "y_preds2 = modelo2.predict(x_teste)"
      ],
      "metadata": {
        "colab": {
          "base_uri": "https://localhost:8080/"
        },
        "id": "JqJXYvn8S3E3",
        "outputId": "154d9cc5-c1ce-4f5c-dec0-58a38676619b"
      },
      "execution_count": null,
      "outputs": [
        {
          "output_type": "stream",
          "name": "stdout",
          "text": [
            "1/1 [==============================] - 0s 66ms/step\n"
          ]
        }
      ]
    },
    {
      "cell_type": "code",
      "source": [
        "grafico_previsoes(predictions=y_preds2)"
      ],
      "metadata": {
        "colab": {
          "base_uri": "https://localhost:8080/",
          "height": 599
        },
        "id": "fIEytZkHTqFO",
        "outputId": "70d16a40-0d91-4f3b-f391-8b5f224a9481"
      },
      "execution_count": null,
      "outputs": [
        {
          "output_type": "display_data",
          "data": {
            "text/plain": [
              "<Figure size 1000x700 with 1 Axes>"
            ],
            "image/png": "[encoded data removed]"
          },
          "metadata": {}
        }
      ]
    },
    {
      "cell_type": "code",
      "source": [
        "mae_2 = mae(y_teste, y_preds2.squeeze()).numpy()\n",
        "mse_2 = mse(y_teste, y_preds2.squeeze()).numpy()\n",
        "mae_2, mse_2"
      ],
      "metadata": {
        "colab": {
          "base_uri": "https://localhost:8080/"
        },
        "id": "GojsuPgmT-fb",
        "outputId": "ee6b26df-cedb-4b04-e4f6-8a2a54702762"
      },
      "execution_count": null,
      "outputs": [
        {
          "output_type": "execute_result",
          "data": {
            "text/plain": [
              "(11.615431, 143.5311)"
            ]
          },
          "metadata": {},
          "execution_count": 82
        }
      ]
    },
    {
      "cell_type": "markdown",
      "source": [
        "### modelo 3"
      ],
      "metadata": {
        "id": "3vP9ggtaUQCR"
      }
    },
    {
      "cell_type": "code",
      "source": [
        "# criação do terceiro modelo\n",
        "modelo3 = tf.keras.Sequential([\n",
        "    tf.keras.layers.Dense(1),\n",
        "    tf.keras.layers.Dense(1) # adicionando mais uma camada\n",
        "])\n",
        "\n",
        "modelo3.compile(loss=tf.keras.losses.mae,\n",
        "                optimizer=tf.keras.optimizers.SGD(),\n",
        "                metrics=\"mae\")\n",
        "\n",
        "modelo3.fit(tf.expand_dims(x_treino, axis=-1), y_treino, epochs=500, verbose=0) # vamos adicionar mais epochs"
      ],
      "metadata": {
        "colab": {
          "base_uri": "https://localhost:8080/"
        },
        "id": "Jr5D68YLUTng",
        "outputId": "4ad81346-ac17-4ce3-98b0-fcdbb68e4674"
      },
      "execution_count": null,
      "outputs": [
        {
          "output_type": "execute_result",
          "data": {
            "text/plain": [
              "<keras.src.callbacks.History at 0x7deca68eb3d0>"
            ]
          },
          "metadata": {},
          "execution_count": 83
        }
      ]
    },
    {
      "cell_type": "code",
      "source": [
        "y_preds3 = modelo3.predict(x_teste)"
      ],
      "metadata": {
        "colab": {
          "base_uri": "https://localhost:8080/"
        },
        "id": "Sx-rBeURVFz4",
        "outputId": "b9ac2cbc-0a6b-423d-91f0-54f27c5e2812"
      },
      "execution_count": null,
      "outputs": [
        {
          "output_type": "stream",
          "name": "stdout",
          "text": [
            "1/1 [==============================] - 0s 69ms/step\n"
          ]
        }
      ]
    },
    {
      "cell_type": "code",
      "source": [
        "grafico_previsoes(predictions=y_preds3)"
      ],
      "metadata": {
        "colab": {
          "base_uri": "https://localhost:8080/",
          "height": 599
        },
        "id": "m-4QZ_sVVa4W",
        "outputId": "df2cb531-166c-4e37-ae49-2c7e698a8848"
      },
      "execution_count": null,
      "outputs": [
        {
          "output_type": "display_data",
          "data": {
            "text/plain": [
              "<Figure size 1000x700 with 1 Axes>"
            ],
            "image/png": "[encoded data removed]"
          },
          "metadata": {}
        }
      ]
    },
    {
      "cell_type": "code",
      "source": [
        "mae_3 = mae(y_teste, y_preds3.squeeze()).numpy()\n",
        "mse_3 = mse(y_teste, y_preds3.squeeze()).numpy()\n",
        "mae_3, mse_3"
      ],
      "metadata": {
        "colab": {
          "base_uri": "https://localhost:8080/"
        },
        "id": "oRnbyYyFVgdb",
        "outputId": "9abfa1b9-17a5-4d55-d021-4af61cfd439a"
      },
      "execution_count": null,
      "outputs": [
        {
          "output_type": "execute_result",
          "data": {
            "text/plain": [
              "(67.92916, 4698.8936)"
            ]
          },
          "metadata": {},
          "execution_count": 86
        }
      ]
    },
    {
      "cell_type": "markdown",
      "source": [
        "## comparando resultados"
      ],
      "metadata": {
        "id": "Idh4f9gOV43e"
      }
    },
    {
      "cell_type": "code",
      "source": [
        "resultados_modelos = [[\"modelo1\", mae_1, mse_1],\n",
        "              [\"modelo2\", mae_2, mse_2],\n",
        "              [\"modelo3\", mae_3, mse_3]]"
      ],
      "metadata": {
        "id": "BnWb5cZ5V96z"
      },
      "execution_count": null,
      "outputs": []
    },
    {
      "cell_type": "code",
      "source": [
        "resultado_final =pd.DataFrame(resultados_modelos, columns=[\"modelo\", \"mae\", \"mse\"])\n",
        "resultado_final"
      ],
      "metadata": {
        "colab": {
          "base_uri": "https://localhost:8080/",
          "height": 143
        },
        "id": "GuwlzIVCWeXe",
        "outputId": "0167803d-20d1-44e1-aaff-7519b917e973"
      },
      "execution_count": null,
      "outputs": [
        {
          "output_type": "execute_result",
          "data": {
            "text/plain": [
              "    modelo        mae          mse\n",
              "0  modelo1  30.749228   956.033081\n",
              "1  modelo2  11.615431   143.531097\n",
              "2  modelo3  67.929161  4698.893555"
            ],
            "text/html": [
              "\n",
              "  <div id=\"df-1bdf538e-b645-48cb-820d-964674b3912c\" class=\"colab-df-container\">\n",
              "    <div>\n",
              "<style scoped>\n",
              "    .dataframe tbody tr th:only-of-type {\n",
              "        vertical-align: middle;\n",
              "    }\n",
              "\n",
              "    .dataframe tbody tr th {\n",
              "        vertical-align: top;\n",
              "    }\n",
              "\n",
              "    .dataframe thead th {\n",
              "        text-align: right;\n",
              "    }\n",
              "</style>\n",
              "<table border=\"1\" class=\"dataframe\">\n",
              "  <thead>\n",
              "    <tr style=\"text-align: right;\">\n",
              "      <th></th>\n",
              "      <th>modelo</th>\n",
              "      <th>mae</th>\n",
              "      <th>mse</th>\n",
              "    </tr>\n",
              "  </thead>\n",
              "  <tbody>\n",
              "    <tr>\n",
              "      <th>0</th>\n",
              "      <td>modelo1</td>\n",
              "      <td>30.749228</td>\n",
              "      <td>956.033081</td>\n",
              "    </tr>\n",
              "    <tr>\n",
              "      <th>1</th>\n",
              "      <td>modelo2</td>\n",
              "      <td>11.615431</td>\n",
              "      <td>143.531097</td>\n",
              "    </tr>\n",
              "    <tr>\n",
              "      <th>2</th>\n",
              "      <td>modelo3</td>\n",
              "      <td>67.929161</td>\n",
              "      <td>4698.893555</td>\n",
              "    </tr>\n",
              "  </tbody>\n",
              "</table>\n",
              "</div>\n",
              "    <div class=\"colab-df-buttons\">\n",
              "\n",
              "  <div class=\"colab-df-container\">\n",
              "    <button class=\"colab-df-convert\" onclick=\"convertToInteractive('df-1bdf538e-b645-48cb-820d-964674b3912c')\"\n",
              "            title=\"Convert this dataframe to an interactive table.\"\n",
              "            style=\"display:none;\">\n",
              "\n",
              "  <svg xmlns=\"http://www.w3.org/2000/svg\" height=\"24px\" viewBox=\"0 -960 960 960\">\n",
              "    <path d=\"M120-120v-720h720v720H120Zm60-500h600v-160H180v160Zm220 220h160v-160H400v160Zm0 220h160v-160H400v160ZM180-400h160v-160H180v160Zm440 0h160v-160H620v160ZM180-180h160v-160H180v160Zm440 0h160v-160H620v160Z\"/>\n",
              "  </svg>\n",
              "    </button>\n",
              "\n",
              "  <style>\n",
              "    .colab-df-container {\n",
              "      display:flex;\n",
              "      gap: 12px;\n",
              "    }\n",
              "\n",
              "    .colab-df-convert {\n",
              "      background-color: #E8F0FE;\n",
              "      border: none;\n",
              "      border-radius: 50%;\n",
              "      cursor: pointer;\n",
              "      display: none;\n",
              "      fill: #1967D2;\n",
              "      height: 32px;\n",
              "      padding: 0 0 0 0;\n",
              "      width: 32px;\n",
              "    }\n",
              "\n",
              "    .colab-df-convert:hover {\n",
              "      background-color: #E2EBFA;\n",
              "      box-shadow: 0px 1px 2px rgba(60, 64, 67, 0.3), 0px 1px 3px 1px rgba(60, 64, 67, 0.15);\n",
              "      fill: #174EA6;\n",
              "    }\n",
              "\n",
              "    .colab-df-buttons div {\n",
              "      margin-bottom: 4px;\n",
              "    }\n",
              "\n",
              "    [theme=dark] .colab-df-convert {\n",
              "      background-color: #3B4455;\n",
              "      fill: #D2E3FC;\n",
              "    }\n",
              "\n",
              "    [theme=dark] .colab-df-convert:hover {\n",
              "      background-color: #434B5C;\n",
              "      box-shadow: 0px 1px 3px 1px rgba(0, 0, 0, 0.15);\n",
              "      filter: drop-shadow(0px 1px 2px rgba(0, 0, 0, 0.3));\n",
              "      fill: #FFFFFF;\n",
              "    }\n",
              "  </style>\n",
              "\n",
              "    <script>\n",
              "      const buttonEl =\n",
              "        document.querySelector('#df-1bdf538e-b645-48cb-820d-964674b3912c button.colab-df-convert');\n",
              "      buttonEl.style.display =\n",
              "        google.colab.kernel.accessAllowed ? 'block' : 'none';\n",
              "\n",
              "      async function convertToInteractive(key) {\n",
              "        const element = document.querySelector('#df-1bdf538e-b645-48cb-820d-964674b3912c');\n",
              "        const dataTable =\n",
              "          await google.colab.kernel.invokeFunction('convertToInteractive',\n",
              "                                                    [key], {});\n",
              "        if (!dataTable) return;\n",
              "\n",
              "        const docLinkHtml = 'Like what you see? Visit the ' +\n",
              "          '<a target=\"_blank\" href=https://colab.research.google.com/notebooks/data_table.ipynb>data table notebook</a>'\n",
              "          + ' to learn more about interactive tables.';\n",
              "        element.innerHTML = '';\n",
              "        dataTable['output_type'] = 'display_data';\n",
              "        await google.colab.output.renderOutput(dataTable, element);\n",
              "        const docLink = document.createElement('div');\n",
              "        docLink.innerHTML = docLinkHtml;\n",
              "        element.appendChild(docLink);\n",
              "      }\n",
              "    </script>\n",
              "  </div>\n",
              "\n",
              "\n",
              "<div id=\"df-f148cbaa-f71f-431e-8926-ae6098a7cfdf\">\n",
              "  <button class=\"colab-df-quickchart\" onclick=\"quickchart('df-f148cbaa-f71f-431e-8926-ae6098a7cfdf')\"\n",
              "            title=\"Suggest charts.\"\n",
              "            style=\"display:none;\">\n",
              "\n",
              "<svg xmlns=\"http://www.w3.org/2000/svg\" height=\"24px\"viewBox=\"0 0 24 24\"\n",
              "     width=\"24px\">\n",
              "    <g>\n",
              "        <path d=\"M19 3H5c-1.1 0-2 .9-2 2v14c0 1.1.9 2 2 2h14c1.1 0 2-.9 2-2V5c0-1.1-.9-2-2-2zM9 17H7v-7h2v7zm4 0h-2V7h2v10zm4 0h-2v-4h2v4z\"/>\n",
              "    </g>\n",
              "</svg>\n",
              "  </button>\n",
              "\n",
              "<style>\n",
              "  .colab-df-quickchart {\n",
              "      --bg-color: #E8F0FE;\n",
              "      --fill-color: #1967D2;\n",
              "      --hover-bg-color: #E2EBFA;\n",
              "      --hover-fill-color: #174EA6;\n",
              "      --disabled-fill-color: #AAA;\n",
              "      --disabled-bg-color: #DDD;\n",
              "  }\n",
              "\n",
              "  [theme=dark] .colab-df-quickchart {\n",
              "      --bg-color: #3B4455;\n",
              "      --fill-color: #D2E3FC;\n",
              "      --hover-bg-color: #434B5C;\n",
              "      --hover-fill-color: #FFFFFF;\n",
              "      --disabled-bg-color: #3B4455;\n",
              "      --disabled-fill-color: #666;\n",
              "  }\n",
              "\n",
              "  .colab-df-quickchart {\n",
              "    background-color: var(--bg-color);\n",
              "    border: none;\n",
              "    border-radius: 50%;\n",
              "    cursor: pointer;\n",
              "    display: none;\n",
              "    fill: var(--fill-color);\n",
              "    height: 32px;\n",
              "    padding: 0;\n",
              "    width: 32px;\n",
              "  }\n",
              "\n",
              "  .colab-df-quickchart:hover {\n",
              "    background-color: var(--hover-bg-color);\n",
              "    box-shadow: 0 1px 2px rgba(60, 64, 67, 0.3), 0 1px 3px 1px rgba(60, 64, 67, 0.15);\n",
              "    fill: var(--button-hover-fill-color);\n",
              "  }\n",
              "\n",
              "  .colab-df-quickchart-complete:disabled,\n",
              "  .colab-df-quickchart-complete:disabled:hover {\n",
              "    background-color: var(--disabled-bg-color);\n",
              "    fill: var(--disabled-fill-color);\n",
              "    box-shadow: none;\n",
              "  }\n",
              "\n",
              "  .colab-df-spinner {\n",
              "    border: 2px solid var(--fill-color);\n",
              "    border-color: transparent;\n",
              "    border-bottom-color: var(--fill-color);\n",
              "    animation:\n",
              "      spin 1s steps(1) infinite;\n",
              "  }\n",
              "\n",
              "  @keyframes spin {\n",
              "    0% {\n",
              "      border-color: transparent;\n",
              "      border-bottom-color: var(--fill-color);\n",
              "      border-left-color: var(--fill-color);\n",
              "    }\n",
              "    20% {\n",
              "      border-color: transparent;\n",
              "      border-left-color: var(--fill-color);\n",
              "      border-top-color: var(--fill-color);\n",
              "    }\n",
              "    30% {\n",
              "      border-color: transparent;\n",
              "      border-left-color: var(--fill-color);\n",
              "      border-top-color: var(--fill-color);\n",
              "      border-right-color: var(--fill-color);\n",
              "    }\n",
              "    40% {\n",
              "      border-color: transparent;\n",
              "      border-right-color: var(--fill-color);\n",
              "      border-top-color: var(--fill-color);\n",
              "    }\n",
              "    60% {\n",
              "      border-color: transparent;\n",
              "      border-right-color: var(--fill-color);\n",
              "    }\n",
              "    80% {\n",
              "      border-color: transparent;\n",
              "      border-right-color: var(--fill-color);\n",
              "      border-bottom-color: var(--fill-color);\n",
              "    }\n",
              "    90% {\n",
              "      border-color: transparent;\n",
              "      border-bottom-color: var(--fill-color);\n",
              "    }\n",
              "  }\n",
              "</style>\n",
              "\n",
              "  <script>\n",
              "    async function quickchart(key) {\n",
              "      const quickchartButtonEl =\n",
              "        document.querySelector('#' + key + ' button');\n",
              "      quickchartButtonEl.disabled = true;  // To prevent multiple clicks.\n",
              "      quickchartButtonEl.classList.add('colab-df-spinner');\n",
              "      try {\n",
              "        const charts = await google.colab.kernel.invokeFunction(\n",
              "            'suggestCharts', [key], {});\n",
              "      } catch (error) {\n",
              "        console.error('Error during call to suggestCharts:', error);\n",
              "      }\n",
              "      quickchartButtonEl.classList.remove('colab-df-spinner');\n",
              "      quickchartButtonEl.classList.add('colab-df-quickchart-complete');\n",
              "    }\n",
              "    (() => {\n",
              "      let quickchartButtonEl =\n",
              "        document.querySelector('#df-f148cbaa-f71f-431e-8926-ae6098a7cfdf button');\n",
              "      quickchartButtonEl.style.display =\n",
              "        google.colab.kernel.accessAllowed ? 'block' : 'none';\n",
              "    })();\n",
              "  </script>\n",
              "</div>\n",
              "    </div>\n",
              "  </div>\n"
            ]
          },
          "metadata": {},
          "execution_count": 88
        }
      ]
    },
    {
      "cell_type": "markdown",
      "source": [
        "## Salvando o melhor modelo"
      ],
      "metadata": {
        "id": "CAL2rEjlXw6D"
      }
    },
    {
      "cell_type": "code",
      "source": [
        "modelo2.save('melhor_modeloSavedModel_format')"
      ],
      "metadata": {
        "id": "mWN1CHHvX4w9"
      },
      "execution_count": null,
      "outputs": []
    },
    {
      "cell_type": "code",
      "source": [
        "!ls melhor_modeloSavedModel_format"
      ],
      "metadata": {
        "colab": {
          "base_uri": "https://localhost:8080/"
        },
        "id": "vGBsof3HYwaR",
        "outputId": "1bed6c41-f7eb-42e6-d590-f9a0e980e328"
      },
      "execution_count": null,
      "outputs": [
        {
          "output_type": "stream",
          "name": "stdout",
          "text": [
            "assets\tfingerprint.pb\tkeras_metadata.pb  saved_model.pb  variables\n"
          ]
        }
      ]
    }
  ]
}